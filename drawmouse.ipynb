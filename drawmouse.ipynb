{
 "cells": [
  {
   "cell_type": "code",
   "execution_count": 41,
   "metadata": {},
   "outputs": [],
   "source": [
    "import cv2\n",
    "import numpy as np\n",
    "\n",
    "istrue=False\n",
    "sx=-1\n",
    "sy=-1\n",
    "################################################\n",
    "###################Function#################################\n",
    "def draw_circle(event,x,y,flags,param):\n",
    "    global istrue,sx,sy\n",
    "    if event == cv2.EVENT_LBUTTONDOWN:\n",
    "        cv2.circle(img,(x,y),50,(255,255,0),-1)\n",
    "    if event == cv2.EVENT_RBUTTONDOWN:\n",
    "        istrue=True\n",
    "        sx=x\n",
    "        sy=y\n",
    "    if event == cv2.EVENT_RBUTTONUP:\n",
    "        istrue=False\n",
    "    if event == cv2.EVENT_MOUSEMOVE:\n",
    "        if istrue:\n",
    "#           cv2.line(img,pt1=(sx,sy),pt2=(x,y),color=(255,0,255),thickness=10)\n",
    "#           cv2.circle(img,(x,y),20,(255,255,0),-1)\n",
    "            cv2.rectangle(img,pt1=(sx,sy),pt2=(x,y),color=(0,0,255),thickness=10)    \n",
    "        \n",
    "cv2.namedWindow('img')\n",
    "cv2.setMouseCallback('img',draw_circle)\n",
    "################################################\n",
    " \n",
    "\n",
    "\n",
    "################################################\n",
    "########Showing image with open cv##############\n",
    "img=np.zeros((512,512,3),np.int8)\n",
    "while True:\n",
    "    cv2.imshow(\"img\",img)\n",
    "    if cv2.waitKey(20) & 0xFF==27 :\n",
    "        break\n",
    "cv2.destroyAllWindows()\n",
    "        \n",
    "\n",
    "################################################\n",
    "\n"
   ]
  },
  {
   "cell_type": "code",
   "execution_count": null,
   "metadata": {},
   "outputs": [],
   "source": [
    "    "
   ]
  },
  {
   "cell_type": "code",
   "execution_count": null,
   "metadata": {},
   "outputs": [],
   "source": []
  }
 ],
 "metadata": {
  "kernelspec": {
   "display_name": "Python 3",
   "language": "python",
   "name": "python3"
  },
  "language_info": {
   "codemirror_mode": {
    "name": "ipython",
    "version": 3
   },
   "file_extension": ".py",
   "mimetype": "text/x-python",
   "name": "python",
   "nbconvert_exporter": "python",
   "pygments_lexer": "ipython3",
   "version": "3.6.8"
  }
 },
 "nbformat": 4,
 "nbformat_minor": 2
}
