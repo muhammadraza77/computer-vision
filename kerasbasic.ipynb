{
 "cells": [
  {
   "cell_type": "code",
   "execution_count": 1,
   "metadata": {},
   "outputs": [],
   "source": [
    "import numpy as np\n",
    "from numpy import genfromtxt\n",
    "data = genfromtxt('bank_note_data.txt', delimiter=',')"
   ]
  },
  {
   "cell_type": "code",
   "execution_count": 4,
   "metadata": {},
   "outputs": [
    {
     "data": {
      "text/plain": [
       "(1372, 5)"
      ]
     },
     "execution_count": 4,
     "metadata": {},
     "output_type": "execute_result"
    }
   ],
   "source": [
    "data.shape"
   ]
  },
  {
   "cell_type": "code",
   "execution_count": 3,
   "metadata": {},
   "outputs": [
    {
     "data": {
      "text/plain": [
       "(1372,)"
      ]
     },
     "execution_count": 3,
     "metadata": {},
     "output_type": "execute_result"
    }
   ],
   "source": [
    "X=data[:,0:4]\n",
    "X.shape\n",
    "y=data[:,4]\n",
    "y.shape\n"
   ]
  },
  {
   "cell_type": "code",
   "execution_count": 5,
   "metadata": {},
   "outputs": [],
   "source": [
    "from sklearn.model_selection import train_test_split\n",
    "\n",
    "X_train,X_test,y_train,y_test=train_test_split(X,y,test_size=0.33,random_state=42)\n"
   ]
  },
  {
   "cell_type": "code",
   "execution_count": 6,
   "metadata": {},
   "outputs": [],
   "source": [
    "from sklearn.preprocessing import MinMaxScaler"
   ]
  },
  {
   "cell_type": "code",
   "execution_count": 7,
   "metadata": {},
   "outputs": [],
   "source": [
    "scaler_object=MinMaxScaler()\n",
    "scaler_object.fit(X_train)\n",
    "\n",
    "scaled_X_train = scaler_object.transform(X_train)\n",
    "scaled_X_test = scaler_object.transform(X_test)\n"
   ]
  },
  {
   "cell_type": "code",
   "execution_count": 8,
   "metadata": {},
   "outputs": [
    {
     "name": "stderr",
     "output_type": "stream",
     "text": [
      "Using TensorFlow backend.\n"
     ]
    },
    {
     "name": "stdout",
     "output_type": "stream",
     "text": [
      "WARNING:tensorflow:From C:\\Users\\th\\Anaconda3\\envs\\env1\\lib\\site-packages\\tensorflow\\python\\framework\\op_def_library.py:263: colocate_with (from tensorflow.python.framework.ops) is deprecated and will be removed in a future version.\n",
      "Instructions for updating:\n",
      "Colocations handled automatically by placer.\n",
      "WARNING:tensorflow:From C:\\Users\\th\\Anaconda3\\envs\\env1\\lib\\site-packages\\tensorflow\\python\\ops\\math_ops.py:3066: to_int32 (from tensorflow.python.ops.math_ops) is deprecated and will be removed in a future version.\n",
      "Instructions for updating:\n",
      "Use tf.cast instead.\n",
      "Epoch 1/50\n",
      " - 1s - loss: 0.6912 - acc: 0.5288\n",
      "Epoch 2/50\n",
      " - 0s - loss: 0.6860 - acc: 0.5495\n",
      "Epoch 3/50\n",
      " - 0s - loss: 0.6816 - acc: 0.5495\n",
      "Epoch 4/50\n",
      " - 0s - loss: 0.6783 - acc: 0.5495\n",
      "Epoch 5/50\n",
      " - 0s - loss: 0.6744 - acc: 0.5495\n",
      "Epoch 6/50\n",
      " - 0s - loss: 0.6709 - acc: 0.5495\n",
      "Epoch 7/50\n",
      " - 0s - loss: 0.6672 - acc: 0.5495\n",
      "Epoch 8/50\n",
      " - 0s - loss: 0.6630 - acc: 0.5495\n",
      "Epoch 9/50\n",
      " - 0s - loss: 0.6585 - acc: 0.5560\n",
      "Epoch 10/50\n",
      " - 0s - loss: 0.6524 - acc: 0.5637\n",
      "Epoch 11/50\n",
      " - 0s - loss: 0.6466 - acc: 0.5724\n",
      "Epoch 12/50\n",
      " - 0s - loss: 0.6405 - acc: 0.5811\n",
      "Epoch 13/50\n",
      " - 0s - loss: 0.6341 - acc: 0.5952\n",
      "Epoch 14/50\n",
      " - 0s - loss: 0.6271 - acc: 0.6104\n",
      "Epoch 15/50\n",
      " - 0s - loss: 0.6201 - acc: 0.6289\n",
      "Epoch 16/50\n",
      " - 0s - loss: 0.6127 - acc: 0.6376\n",
      "Epoch 17/50\n",
      " - 0s - loss: 0.6049 - acc: 0.6442\n",
      "Epoch 18/50\n",
      " - 0s - loss: 0.5969 - acc: 0.6529\n",
      "Epoch 19/50\n",
      " - 0s - loss: 0.5890 - acc: 0.6572\n",
      "Epoch 20/50\n",
      " - 0s - loss: 0.5809 - acc: 0.6844\n",
      "Epoch 21/50\n",
      " - 0s - loss: 0.5733 - acc: 0.7018\n",
      "Epoch 22/50\n",
      " - 0s - loss: 0.5645 - acc: 0.7084\n",
      "Epoch 23/50\n",
      " - 0s - loss: 0.5566 - acc: 0.7280\n",
      "Epoch 24/50\n",
      " - 0s - loss: 0.5486 - acc: 0.7301\n",
      "Epoch 25/50\n",
      " - 0s - loss: 0.5403 - acc: 0.7486\n",
      "Epoch 26/50\n",
      " - 0s - loss: 0.5326 - acc: 0.7486\n",
      "Epoch 27/50\n",
      " - 0s - loss: 0.5246 - acc: 0.7584\n",
      "Epoch 28/50\n",
      " - 0s - loss: 0.5170 - acc: 0.7682\n",
      "Epoch 29/50\n",
      " - 0s - loss: 0.5095 - acc: 0.7704\n",
      "Epoch 30/50\n",
      " - 0s - loss: 0.5021 - acc: 0.7758\n",
      "Epoch 31/50\n",
      " - 0s - loss: 0.4950 - acc: 0.7867\n",
      "Epoch 32/50\n",
      " - 0s - loss: 0.4875 - acc: 0.8041\n",
      "Epoch 33/50\n",
      " - 0s - loss: 0.4803 - acc: 0.8074\n",
      "Epoch 34/50\n",
      " - 0s - loss: 0.4731 - acc: 0.8085\n",
      "Epoch 35/50\n",
      " - 0s - loss: 0.4665 - acc: 0.8096\n",
      "Epoch 36/50\n",
      " - 0s - loss: 0.4592 - acc: 0.8205\n",
      "Epoch 37/50\n",
      " - 0s - loss: 0.4522 - acc: 0.8194\n",
      "Epoch 38/50\n",
      " - 0s - loss: 0.4452 - acc: 0.8237\n",
      "Epoch 39/50\n",
      " - 0s - loss: 0.4384 - acc: 0.8270\n",
      "Epoch 40/50\n",
      " - 0s - loss: 0.4317 - acc: 0.8281\n",
      "Epoch 41/50\n",
      " - 0s - loss: 0.4250 - acc: 0.8313\n",
      "Epoch 42/50\n",
      " - 0s - loss: 0.4182 - acc: 0.8346\n",
      "Epoch 43/50\n",
      " - 0s - loss: 0.4115 - acc: 0.8411\n",
      "Epoch 44/50\n",
      " - 0s - loss: 0.4051 - acc: 0.8444\n",
      "Epoch 45/50\n",
      " - 0s - loss: 0.3991 - acc: 0.8487\n",
      "Epoch 46/50\n",
      " - 0s - loss: 0.3922 - acc: 0.8520\n",
      "Epoch 47/50\n",
      " - 0s - loss: 0.3857 - acc: 0.8585\n",
      "Epoch 48/50\n",
      " - 0s - loss: 0.3797 - acc: 0.8629\n",
      "Epoch 49/50\n",
      " - 0s - loss: 0.3736 - acc: 0.8716\n",
      "Epoch 50/50\n",
      " - 0s - loss: 0.3672 - acc: 0.8770\n"
     ]
    },
    {
     "data": {
      "text/plain": [
       "<keras.callbacks.History at 0xffe7bbdd68>"
      ]
     },
     "execution_count": 8,
     "metadata": {},
     "output_type": "execute_result"
    }
   ],
   "source": [
    "\n",
    "from keras.models import Sequential\n",
    "from keras.layers import Dense\n",
    "\n",
    "# Creates model\n",
    "model = Sequential()\n",
    "\n",
    "model.add(Dense(4, input_dim=4, activation='relu'))\n",
    "\n",
    "model.add(Dense(8, activation='relu'))\n",
    "\n",
    "model.add(Dense(1, activation='sigmoid'))\n",
    "model.compile(loss='binary_crossentropy', optimizer='adam', metrics=['accuracy'])\n",
    "model.fit(scaled_X_train,y_train,epochs=50, verbose=2)"
   ]
  },
  {
   "cell_type": "code",
   "execution_count": 35,
   "metadata": {},
   "outputs": [
    {
     "name": "stdout",
     "output_type": "stream",
     "text": [
      "453/453 [==============================] - 0s 26us/step\n"
     ]
    },
    {
     "data": {
      "text/plain": [
       "array([[251,   6],\n",
       "       [ 55, 141]], dtype=int64)"
      ]
     },
     "execution_count": 35,
     "metadata": {},
     "output_type": "execute_result"
    }
   ],
   "source": [
    "model.evaluate(x=scaled_X_test,y=y_test)\n",
    "from sklearn.metrics import confusion_matrix,classification_report\n",
    "\n",
    "predictions = model.predict_classes(scaled_X_test)\n",
    "confusion_matrix(y_test,predictions)\n",
    "\n",
    "\n",
    "# print(classification_report(y_test,predictions))"
   ]
  },
  {
   "cell_type": "code",
   "execution_count": null,
   "metadata": {},
   "outputs": [],
   "source": []
  }
 ],
 "metadata": {
  "kernelspec": {
   "display_name": "Python 3",
   "language": "python",
   "name": "python3"
  },
  "language_info": {
   "codemirror_mode": {
    "name": "ipython",
    "version": 3
   },
   "file_extension": ".py",
   "mimetype": "text/x-python",
   "name": "python",
   "nbconvert_exporter": "python",
   "pygments_lexer": "ipython3",
   "version": "3.6.8"
  }
 },
 "nbformat": 4,
 "nbformat_minor": 2
}
